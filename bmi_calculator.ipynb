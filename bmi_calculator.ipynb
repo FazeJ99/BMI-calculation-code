{
 "cells": [
  {
   "cell_type": "code",
   "execution_count": 1,
   "metadata": {},
   "outputs": [
    {
     "name": "stdout",
     "output_type": "stream",
     "text": [
      "Your bmi is 22.996725507170012 and you lie in the Normal weight category\n",
      "Your bmi is 22.996725507170012 and you lie in the Normal weight category\n"
     ]
    }
   ],
   "source": [
    "weight=float(input(\"Key in your weight in kgs\"))\n",
    "height=float(input(\"Key in your height in meters\"))\n",
    "bmi=weight/(height**2)\n",
    "\n",
    "if bmi<18.5:\n",
    "    category=\"Underweight\"\n",
    "elif bmi<=24.9:\n",
    "    category=\"Normal weight\"\n",
    "elif bmi <=29.9:\n",
    "    category= \"Overweight\"\n",
    "else:\n",
    "    category=\"Obese\"  \n",
    "print(\"Your bmi is\", bmi, \"and you lie in the\", category,\"category\")        \n",
    "print(f\"Your bmi is {bmi} and you lie in the {category} category\")"
   ]
  }
 ],
 "metadata": {
  "kernelspec": {
   "display_name": "Python 3",
   "language": "python",
   "name": "python3"
  },
  "language_info": {
   "codemirror_mode": {
    "name": "ipython",
    "version": 3
   },
   "file_extension": ".py",
   "mimetype": "text/x-python",
   "name": "python",
   "nbconvert_exporter": "python",
   "pygments_lexer": "ipython3",
   "version": "3.12.4"
  }
 },
 "nbformat": 4,
 "nbformat_minor": 2
}
